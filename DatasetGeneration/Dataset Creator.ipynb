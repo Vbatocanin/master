{
 "cells": [
  {
   "cell_type": "markdown",
   "metadata": {},
   "source": [
    "# Imports "
   ]
  },
  {
   "cell_type": "markdown",
   "metadata": {},
   "source": [
    "This Notebook is sequentially processing Images from SuperCaustics to be used in Cleargrasp Training. \n",
    "The Code currently does not check for many things that can go wrong during copy-pasting data, so definitely make backups from your images before running this. "
   ]
  },
  {
   "cell_type": "code",
   "metadata": {
    "ExecuteTime": {
     "end_time": "2024-06-22T10:34:41.542206Z",
     "start_time": "2024-06-22T10:34:41.538017Z"
    }
   },
   "source": [
    "import os\n",
    "import random as r\n",
    "import shutil\n",
    "\n",
    "import PIL.Image as Image\n",
    "import cv2\n",
    "import imageio\n",
    "import numpy as np\n",
    "from PIL import ImageChops\n",
    "from PIL import ImageFilter"
   ],
   "outputs": [],
   "execution_count": 10
  },
  {
   "metadata": {
    "ExecuteTime": {
     "end_time": "2024-06-21T15:40:49.379435Z",
     "start_time": "2024-06-21T15:40:49.377578Z"
    }
   },
   "cell_type": "code",
   "source": "",
   "outputs": [],
   "execution_count": 1
  },
  {
   "cell_type": "code",
   "metadata": {
    "ExecuteTime": {
     "end_time": "2024-06-21T15:40:50.455519Z",
     "start_time": "2024-06-21T15:40:50.419934Z"
    }
   },
   "source": [
    "imageio.plugins.freeimage.download()"
   ],
   "outputs": [],
   "execution_count": 2
  },
  {
   "cell_type": "markdown",
   "metadata": {},
   "source": [
    "# Make Dataset Folders"
   ]
  },
  {
   "cell_type": "code",
   "metadata": {
    "ExecuteTime": {
     "end_time": "2024-06-21T15:41:02.940996Z",
     "start_time": "2024-06-21T15:41:02.919355Z"
    }
   },
   "source": [
    "#point this to the RAW Screenshots folder. Make Backups before running. You can Comment Out any files that you are not collecting.\n",
    "os.chdir('D:/')\n",
    "dir_src = ('D:/SuperCaustics/Saved/Screenshots/Windows/')\n",
    "\n",
    "Depth = (dir_src + \"Depth/\")\n",
    "Normal = (dir_src + \"/Normal/\")\n",
    "Pic = (dir_src + \"/Picture_No_Caustic/\")\n",
    "Caustic = (dir_src + \"/Picture_Caustic/\")\n",
    "Caustic_Seg = (dir_src + \"/Caustic_Seg/\")\n",
    "Outlines = (dir_src + \"/Outlines/\")\n",
    "Outlines_Processed = (dir_src + \"/Outlines_Processed/\")\n",
    "Seg = (dir_src + \"/Seg/\")\n",
    "Seg_Processed = (dir_src + \"/Seg_Processed/\")\n",
    "Depth_exr = (dir_src + \"/Depth_exr/\")\n",
    "Normal_exr = (dir_src + \"/Normal_exr/\")\n",
    "Seg_exr = (dir_src + \"/Seg_exr/\")\n",
    "\n",
    "try:\n",
    "    os.mkdir(Depth)\n",
    "    os.mkdir(Normal)\n",
    "    os.mkdir(Pic)\n",
    "    os.mkdir(Caustic_Seg)\n",
    "    os.mkdir(Caustic)\n",
    "    os.mkdir(Outlines)\n",
    "    os.mkdir(Seg)\n",
    "    os.mkdir(Outlines_Processed)\n",
    "    os.mkdir(Seg_Processed)\n",
    "    os.mkdir(Depth_exr)\n",
    "    os.mkdir(Normal_exr)\n",
    "    os.mkdir(Seg_exr)\n",
    "\n",
    "except OSError:\n",
    "    print('Directory not created.')\n",
    "\n"
   ],
   "outputs": [],
   "execution_count": 3
  },
  {
   "cell_type": "markdown",
   "metadata": {},
   "source": [
    "# Move images into their respective folders (Order is important)"
   ]
  },
  {
   "cell_type": "markdown",
   "metadata": {},
   "source": "Use the Same order as you did when capturing your data from AIP SuperCaustics. In my case, I made screenshots in the following sequence caustic, no caustics, segmentation mask, normal map, depth map, outlines. "
  },
  {
   "metadata": {},
   "cell_type": "code",
   "outputs": [],
   "execution_count": null,
   "source": [
    "def move_file(filename, destination):\n",
    "    shutil.move(dir_src + filename, destination)\n",
    "    print(\"moved \" + filename, end='\\r')"
   ]
  },
  {
   "cell_type": "code",
   "metadata": {
    "scrolled": true,
    "ExecuteTime": {
     "end_time": "2024-06-21T16:38:15.938415Z",
     "start_time": "2024-06-21T16:38:13.347059Z"
    }
   },
   "source": [
    "caustic = 1\n",
    "counter = 0\n",
    "destinations = [Caustic, Pic, Seg, Normal, Depth, Outlines]\n",
    "\n",
    "for filename in os.listdir(dir_src):\n",
    "    if not filename.endswith('.png'):\n",
    "        continue\n",
    "\n",
    "    move_file(filename, destinations[counter])\n",
    "    counter = (counter + 1) % len(destinations)"
   ],
   "outputs": [
    {
     "name": "stdout",
     "output_type": "stream",
     "text": [
      "moved HighresScreenshot06485.png\r"
     ]
    }
   ],
   "execution_count": 7
  },
  {
   "cell_type": "markdown",
   "metadata": {},
   "source": [
    "# Rename raw images in each folder to have the same name"
   ]
  },
  {
   "metadata": {
    "ExecuteTime": {
     "end_time": "2024-06-21T16:48:15.653357Z",
     "start_time": "2024-06-21T16:48:15.650183Z"
    }
   },
   "cell_type": "code",
   "source": [
    "def rename_files(directory):\n",
    "    i = 0\n",
    "    for filename in os.listdir(directory):\n",
    "        os.rename(directory + '/' + filename, directory + '/' + str(i) + '.png')\n",
    "        i += 1\n",
    "        print(\"renamed \" + filename, end='\\r')"
   ],
   "outputs": [],
   "execution_count": 8
  },
  {
   "cell_type": "code",
   "metadata": {
    "scrolled": true,
    "ExecuteTime": {
     "end_time": "2024-06-21T16:48:31.297912Z",
     "start_time": "2024-06-21T16:48:27.843630Z"
    }
   },
   "source": [
    "directories = [Pic, Caustic, Depth, Normal, Outlines, Seg]\n",
    "\n",
    "for directory in directories:\n",
    "    rename_files(directory)"
   ],
   "outputs": [
    {
     "name": "stdout",
     "output_type": "stream",
     "text": [
      "renamed HighresScreenshot06482.png\r"
     ]
    }
   ],
   "execution_count": 9
  },
  {
   "cell_type": "markdown",
   "metadata": {},
   "source": "# Image compression"
  },
  {
   "metadata": {},
   "cell_type": "markdown",
   "source": "Segmantation masks and ourlines by their nature store data with a limited set of colors (most ofthen with just black and white), so we can convert them to greyscale images, so they take up 3+ times less space in memory."
  },
  {
   "cell_type": "code",
   "metadata": {
    "ExecuteTime": {
     "end_time": "2024-06-22T10:43:00.425819Z",
     "start_time": "2024-06-22T10:41:52.866041Z"
    }
   },
   "source": [
    "for filename in os.listdir(Seg):\n",
    "    segaddress = Seg + filename\n",
    "    newaddress = Seg_Processed + filename\n",
    "    img = []\n",
    "    arr = np.array(Image.open(segaddress).convert('L'))\n",
    "    img = np.where(arr >= 220, 255, -1)\n",
    "    cv2.imwrite(newaddress, img)\n",
    "    print(filename + 'Process'\n",
    "                     'ed.', end='\\r')\n",
    "\n",
    "print('Seg Files Processed.')\n",
    "\n",
    "for filename in os.listdir(Outlines):\n",
    "    outaddress = Outlines + filename\n",
    "    newaddress = Outlines_Processed + filename\n",
    "    image = Image.open(outaddress)\n",
    "    image = image.convert('L')\n",
    "    arr = np.asarray(image)\n",
    "    arr = np.floor(arr / 126)\n",
    "    cv2.imwrite(newaddress, arr)\n",
    "    print(filename + 'Processed.', end='\\r')\n",
    "\n",
    "print('Outline Files Processed.')"
   ],
   "outputs": [
    {
     "name": "stdout",
     "output_type": "stream",
     "text": [
      "Seg Files Processed.\n",
      "Outline Files Processed.rocessed.406.pngProcessed.412.pngProcessed.42.pngProcessed.426.pngProcessed.432.pngProcessed.439.pngProcessed.445.pngProcessed.452.pngProcessed.46.pngProcessed.466.pngProcessed.473.pngProcessed.48.pngProcessed.485.pngProcessed.492.pngProcessed.499.pngProcessed.503.pngProcessed.510.pngProcessed.516.pngProcessed.521.pngProcessed.527.pngProcessed.533.pngProcessed.54.pngProcessed.546.pngProcessed.551.pngProcessed.555.pngProcessed.560.pngProcessed.567.pngProcessed.573.pngProcessed.58.pngProcessed.585.pngProcessed.590.pngProcessed.597.pngProcessed.601.pngProcessed.607.pngProcessed.613.pngProcessed.62.pngProcessed.624.pngProcessed.629.pngProcessed.634.pngProcessed.64.pngProcessed.645.pngProcessed.651.pngProcessed.658.pngProcessed.662.pngProcessed.668.pngProcessed.673.pngProcessed.679.pngProcessed.684.pngProcessed.690.pngProcessed.695.pngProcessed.700.pngProcessed.707.pngProcessed.712.pngProcessed.718.pngProcessed.722.pngProcessed.728.pngProcessed.733.pngProcessed.74.pngProcessed.745.pngProcessed.750.pngProcessed.757.pngProcessed.764.pngProcessed.770.pngProcessed.777.pngProcessed.783.pngProcessed.79.pngProcessed.795.pngProcessed.800.pngProcessed.806.pngProcessed.811.pngProcessed.818.pngProcessed.824.pngProcessed.829.pngProcessed.834.pngProcessed.840.pngProcessed.847.pngProcessed.854.pngProcessed.860.pngProcessed.865.pngProcessed.872.pngProcessed.88.pngProcessed.887.pngProcessed.894.pngProcessed.90.pngProcessed.904.pngProcessed.911.pngProcessed.919.pngProcessed.924.pngProcessed.93.pngProcessed.935.pngProcessed.94.pngProcessed.945.pngProcessed.950.pngProcessed.956.pngProcessed.962.pngProcessed.969.pngProcessed.973.pngProcessed.977.pngProcessed.982.pngProcessed.988.pngProcessed.993.pngProcessed.999.pngProcessed.\n"
     ]
    }
   ],
   "execution_count": 11
  },
  {
   "cell_type": "markdown",
   "metadata": {},
   "source": "## Processing Caustic Segmentation"
  },
  {
   "metadata": {},
   "cell_type": "markdown",
   "source": "In order to train a model to recognize caustics, we first need "
  },
  {
   "cell_type": "code",
   "metadata": {
    "ExecuteTime": {
     "end_time": "2024-06-22T10:48:47.338443Z",
     "start_time": "2024-06-22T10:48:47.333950Z"
    }
   },
   "source": [
    "def extract_caustic_segmentation(path_img_with_caustic, path_img_no_caustic, path_segmentation, thresh=10):\n",
    "    import PIL.Image as Image\n",
    "    # Binary Function\n",
    "    fn = lambda x: 255 if x > thresh else 0\n",
    "\n",
    "    img_with_caustic = Image.open(path_img_with_caustic).convert('RGB')\n",
    "    img_no_caustic = Image.open(path_img_no_caustic).convert('RGB')\n",
    "    # Convert image to a binary black/white image\n",
    "    img_segmentation = Image.open(path_segmentation).convert('1')\n",
    "\n",
    "    # Perform a per-pixel subtraction, and because caustics have mostly specular lighting\n",
    "    # the pixels which are illuminated by them will have greater luminance, and hence a\n",
    "    # greater sum of their RGB values than its non-caustic counterpart. Which is exactly\n",
    "    # how we'll extract them\n",
    "    acc_image = ImageChops.subtract(img_with_caustic, img_no_caustic)\n",
    "\n",
    "    # Make Binary Image\n",
    "    r = acc_image.convert('L').point(fn, mode='1')\n",
    "\n",
    "    # Remove Noise\n",
    "    p = ImageChops.subtract(r, img_segmentation)\n",
    "    p = p.filter(ImageFilter.MinFilter(5))\n",
    "    p = p.filter(ImageFilter.MaxFilter(5))\n",
    "\n",
    "    return p"
   ],
   "outputs": [],
   "execution_count": 12
  },
  {
   "cell_type": "code",
   "metadata": {
    "ExecuteTime": {
     "end_time": "2024-06-22T10:55:42.034282Z",
     "start_time": "2024-06-22T10:49:13.652597Z"
    }
   },
   "source": [
    "for filename in os.listdir(Seg_Processed):\n",
    "    Seg = str(Seg_Processed + filename)\n",
    "    Image = str(Caustic + filename)\n",
    "    NoCaustic = str(Pic + filename)\n",
    "    extract_caustic_segmentation(Image, NoCaustic, Seg).save(Caustic_Seg + filename)\n",
    "    print(filename + 'Processed.', end='\\r')"
   ],
   "outputs": [
    {
     "name": "stdout",
     "output_type": "stream",
     "text": [
      "998.pngProcessed.\r0.pngProcessed.201.pngProcessed.203.pngProcessed.205.pngProcessed.207.pngProcessed.209.pngProcessed.210.pngProcessed.212.pngProcessed.214.pngProcessed.216.pngProcessed.218.pngProcessed.22.pngProcessed.221.pngProcessed.223.pngProcessed.225.pngProcessed.227.pngProcessed.229.pngProcessed.230.pngProcessed.232.pngProcessed.234.pngProcessed.236.pngProcessed.238.pngProcessed.24.pngProcessed.241.pngProcessed.243.pngProcessed.245.pngProcessed.247.pngProcessed.249.pngProcessed.250.pngProcessed.252.pngProcessed.254.pngProcessed.256.pngProcessed.258.pngProcessed.26.pngProcessed.261.pngProcessed.263.pngProcessed.265.pngProcessed.267.pngProcessed.269.pngProcessed.270.pngProcessed.272.pngProcessed.274.pngProcessed.276.pngProcessed.278.pngProcessed.28.pngProcessed.281.pngProcessed.283.pngProcessed.285.pngProcessed.287.pngProcessed.289.pngProcessed.290.pngProcessed.292.pngProcessed.294.pngProcessed.296.pngProcessed.298.pngProcessed.3.pngProcessed.300.pngProcessed.302.pngProcessed.304.pngProcessed.306.pngProcessed.308.pngProcessed.31.pngProcessed.311.pngProcessed.313.pngProcessed.315.pngProcessed.317.pngProcessed.319.pngProcessed.320.pngProcessed.322.pngProcessed.324.pngProcessed.326.pngProcessed.328.pngProcessed.33.pngProcessed.331.pngProcessed.333.pngProcessed.335.pngProcessed.337.pngProcessed.339.pngProcessed.340.pngProcessed.342.pngProcessed.344.pngProcessed.346.pngProcessed.348.pngProcessed.35.pngProcessed.351.pngProcessed.353.pngProcessed.355.pngProcessed.357.pngProcessed.359.pngProcessed.360.pngProcessed.362.pngProcessed.364.pngProcessed.366.pngProcessed.368.pngProcessed.37.pngProcessed.371.pngProcessed.373.pngProcessed.375.pngProcessed.377.pngProcessed.379.pngProcessed.380.pngProcessed.382.pngProcessed.384.pngProcessed.386.pngProcessed.388.pngProcessed.39.pngProcessed.391.pngProcessed.393.pngProcessed.395.pngProcessed.397.pngProcessed.399.pngProcessed.40.pngProcessed.401.pngProcessed.403.pngProcessed.405.pngProcessed.407.pngProcessed.409.pngProcessed.410.pngProcessed.412.pngProcessed.414.pngProcessed.416.pngProcessed.418.pngProcessed.42.pngProcessed.421.pngProcessed.423.pngProcessed.425.pngProcessed.427.pngProcessed.429.pngProcessed.430.pngProcessed.432.pngProcessed.434.pngProcessed.436.pngProcessed.438.pngProcessed.44.pngProcessed.441.pngProcessed.443.pngProcessed.445.pngProcessed.447.pngProcessed.449.pngProcessed.450.pngProcessed.452.pngProcessed.454.pngProcessed.456.pngProcessed.458.pngProcessed.46.pngProcessed.461.pngProcessed.463.pngProcessed.465.pngProcessed.467.pngProcessed.469.pngProcessed.470.pngProcessed.472.pngProcessed.474.pngProcessed.476.pngProcessed.478.pngProcessed.48.pngProcessed.481.pngProcessed.483.pngProcessed.485.pngProcessed.487.pngProcessed.489.pngProcessed.490.pngProcessed.492.pngProcessed.494.pngProcessed.496.pngProcessed.498.pngProcessed.5.pngProcessed.500.pngProcessed.502.pngProcessed.504.pngProcessed.506.pngProcessed.508.pngProcessed.51.pngProcessed.511.pngProcessed.513.pngProcessed.515.pngProcessed.517.pngProcessed.519.pngProcessed.520.pngProcessed.522.pngProcessed.524.pngProcessed.526.pngProcessed.528.pngProcessed.53.pngProcessed.531.pngProcessed.533.pngProcessed.535.pngProcessed.537.pngProcessed.539.pngProcessed.540.pngProcessed.542.pngProcessed.544.pngProcessed.546.pngProcessed.548.pngProcessed.55.pngProcessed.551.pngProcessed.553.pngProcessed.555.pngProcessed.557.pngProcessed.559.pngProcessed.560.pngProcessed.562.pngProcessed.564.pngProcessed.566.pngProcessed.568.pngProcessed.57.pngProcessed.571.pngProcessed.573.pngProcessed.575.pngProcessed.577.pngProcessed.579.pngProcessed.580.pngProcessed.582.pngProcessed.584.pngProcessed.586.pngProcessed.588.pngProcessed.59.pngProcessed.591.pngProcessed.593.pngProcessed.595.pngProcessed.597.pngProcessed.599.pngProcessed.60.pngProcessed.601.pngProcessed.603.pngProcessed.605.pngProcessed.607.pngProcessed.609.pngProcessed.610.pngProcessed.612.pngProcessed.614.pngProcessed.616.pngProcessed.618.pngProcessed.62.pngProcessed.621.pngProcessed.623.pngProcessed.625.pngProcessed.627.pngProcessed.629.pngProcessed.630.pngProcessed.632.pngProcessed.634.pngProcessed.636.pngProcessed.638.pngProcessed.64.pngProcessed.641.pngProcessed.643.pngProcessed.645.pngProcessed.647.pngProcessed.649.pngProcessed.650.pngProcessed.652.pngProcessed.654.pngProcessed.656.pngProcessed.658.pngProcessed.66.pngProcessed.661.pngProcessed.663.pngProcessed.665.pngProcessed.667.pngProcessed.669.pngProcessed.670.pngProcessed.672.pngProcessed.674.pngProcessed.676.pngProcessed.678.pngProcessed.68.pngProcessed.681.pngProcessed.683.pngProcessed.685.pngProcessed.687.pngProcessed.689.pngProcessed.690.pngProcessed.692.pngProcessed.694.pngProcessed.696.pngProcessed.698.pngProcessed.7.pngProcessed.700.pngProcessed.702.pngProcessed.704.pngProcessed.706.pngProcessed.708.pngProcessed.71.pngProcessed.711.pngProcessed.713.pngProcessed.715.pngProcessed.717.pngProcessed.719.pngProcessed.720.pngProcessed.722.pngProcessed.724.pngProcessed.726.pngProcessed.728.pngProcessed.73.pngProcessed.731.pngProcessed.733.pngProcessed.735.pngProcessed.737.pngProcessed.739.pngProcessed.740.pngProcessed.742.pngProcessed.744.pngProcessed.746.pngProcessed.748.pngProcessed.75.pngProcessed.751.pngProcessed.753.pngProcessed.755.pngProcessed.757.pngProcessed.759.pngProcessed.760.pngProcessed.762.pngProcessed.764.pngProcessed.766.pngProcessed.768.pngProcessed.77.pngProcessed.771.pngProcessed.773.pngProcessed.775.pngProcessed.777.pngProcessed.779.pngProcessed.780.pngProcessed.782.pngProcessed.784.pngProcessed.786.pngProcessed.788.pngProcessed.79.pngProcessed.791.pngProcessed.793.pngProcessed.795.pngProcessed.797.pngProcessed.799.pngProcessed.80.pngProcessed.801.pngProcessed.803.pngProcessed.805.pngProcessed.807.pngProcessed.809.pngProcessed.810.pngProcessed.812.pngProcessed.814.pngProcessed.816.pngProcessed.818.pngProcessed.82.pngProcessed.821.pngProcessed.823.pngProcessed.825.pngProcessed.827.pngProcessed.829.pngProcessed.830.pngProcessed.832.pngProcessed.834.pngProcessed.836.pngProcessed.838.pngProcessed.84.pngProcessed.841.pngProcessed.843.pngProcessed.845.pngProcessed.847.pngProcessed.849.pngProcessed.850.pngProcessed.852.pngProcessed.854.pngProcessed.856.pngProcessed.858.pngProcessed.86.pngProcessed.861.pngProcessed.863.pngProcessed.865.pngProcessed.867.pngProcessed.869.pngProcessed.870.pngProcessed.872.pngProcessed.874.pngProcessed.876.pngProcessed.878.pngProcessed.88.pngProcessed.881.pngProcessed.883.pngProcessed.885.pngProcessed.887.pngProcessed.889.pngProcessed.890.pngProcessed.892.pngProcessed.894.pngProcessed.896.pngProcessed.898.pngProcessed.9.pngProcessed.900.pngProcessed.902.pngProcessed.904.pngProcessed.906.pngProcessed.908.pngProcessed.91.pngProcessed.911.pngProcessed.913.pngProcessed.915.pngProcessed.917.pngProcessed.919.pngProcessed.920.pngProcessed.922.pngProcessed.924.pngProcessed.926.pngProcessed.928.pngProcessed.93.pngProcessed.931.pngProcessed.933.pngProcessed.935.pngProcessed.937.pngProcessed.939.pngProcessed.940.pngProcessed.942.pngProcessed.944.pngProcessed.946.pngProcessed.948.pngProcessed.95.pngProcessed.951.pngProcessed.953.pngProcessed.955.pngProcessed.957.pngProcessed.959.pngProcessed.960.pngProcessed.962.pngProcessed.964.pngProcessed.966.pngProcessed.968.pngProcessed.97.pngProcessed.971.pngProcessed.973.pngProcessed.975.pngProcessed.977.pngProcessed.979.pngProcessed.980.pngProcessed.982.pngProcessed.984.pngProcessed.986.pngProcessed.988.pngProcessed.99.pngProcessed.991.pngProcessed.993.pngProcessed.995.pngProcessed.997.pngProcessed.999.pngProcessed.\r"
     ]
    }
   ],
   "execution_count": 13
  },
  {
   "cell_type": "markdown",
   "metadata": {},
   "source": [
    "# Choosing a Random Validation Set: Making the Folders"
   ]
  },
  {
   "cell_type": "code",
   "metadata": {
    "ExecuteTime": {
     "end_time": "2024-06-22T11:14:44.850634Z",
     "start_time": "2024-06-22T11:14:44.833669Z"
    }
   },
   "source": [
    "dir_val = ('D:/Dataset/Dataset/ExampleData_val/')\n",
    "\n",
    "valDepth = (dir_val + \"/Depth/\")\n",
    "valNormal = (dir_val + \"/Normal/\")\n",
    "valPic = (dir_val + \"/Picture_No_Caustic/\")\n",
    "valCaustic = (dir_val + \"/Picture_Caustic/\")\n",
    "valOutlines = (dir_val + \"/Outlines/\")\n",
    "valOutlines_Processed = (dir_val + \"/Outlines_Processed/\")\n",
    "valSeg = (dir_val + \"/Seg/\")\n",
    "valSeg_Processed = (dir_val + \"/Seg_Processed/\")\n",
    "valDepth_exr = (dir_val + \"/Depth_exr/\")\n",
    "valNormal_exr = (dir_val + \"/Normal_exr/\")\n",
    "valSeg_exr = (dir_val + \"/Seg_exr/\")\n",
    "\n",
    "try:\n",
    "    os.mkdir(dir_val)\n",
    "    os.mkdir(valDepth)\n",
    "    os.mkdir(valNormal)\n",
    "    os.mkdir(valPic)\n",
    "    os.mkdir(valCaustic)\n",
    "    os.mkdir(valOutlines)\n",
    "    os.mkdir(valSeg)\n",
    "    os.mkdir(valOutlines_Processed)\n",
    "    os.mkdir(valSeg_Processed)\n",
    "    os.mkdir(valDepth_exr)\n",
    "    os.mkdir(valNormal_exr)\n",
    "    os.mkdir(valSeg_exr)\n",
    "\n",
    "except OSError:\n",
    "    print('Directory not created.')\n",
    "\n"
   ],
   "outputs": [],
   "execution_count": 14
  },
  {
   "cell_type": "markdown",
   "metadata": {},
   "source": [
    "# Moving The Processed Files to Validation Set"
   ]
  },
  {
   "metadata": {
    "ExecuteTime": {
     "end_time": "2024-06-22T12:13:47.784116Z",
     "start_time": "2024-06-22T12:13:47.779707Z"
    }
   },
   "cell_type": "code",
   "source": [
    "Depth = Depth.replace('//', '/')[:-1]\n",
    "Normal = Normal.replace('//', '/')[:-1]\n",
    "Pic = Pic.replace('//', '/')[:-1]\n",
    "Caustic = Caustic.replace('//', '/')[:-1]\n",
    "Outlines = Outlines.replace('//', '/')[:-1]\n",
    "Outlines_Processed = Outlines_Processed.replace('//', '/')[:-1]\n",
    "Seg = os.path.dirname(Seg.replace('//', '/'))\n",
    "Seg_Processed = Seg_Processed.replace('//', '/')[:-1]\n",
    "Depth_exr = Depth_exr.replace('//', '/')[:-1]\n",
    "Normal_exr = Normal_exr.replace('//', '/')[:-1]\n",
    "Seg_exr = Seg_exr.replace('//', '/')[:-1]"
   ],
   "outputs": [],
   "execution_count": 64
  },
  {
   "metadata": {
    "ExecuteTime": {
     "end_time": "2024-06-22T12:13:50.055949Z",
     "start_time": "2024-06-22T12:13:50.052496Z"
    }
   },
   "cell_type": "code",
   "source": "Seg_exr",
   "outputs": [
    {
     "data": {
      "text/plain": [
       "'D:/SuperCaustics/Saved/Screenshots/Windows/Seg_exr'"
      ]
     },
     "execution_count": 65,
     "metadata": {},
     "output_type": "execute_result"
    }
   ],
   "execution_count": 65
  },
  {
   "cell_type": "code",
   "metadata": {
    "ExecuteTime": {
     "end_time": "2024-06-22T12:19:30.347416Z",
     "start_time": "2024-06-22T12:19:30.293193Z"
    }
   },
   "source": [
    "valcount = 0\n",
    "validationSetSize = 6\n",
    "\n",
    "for filename in os.listdir(Pic):\n",
    "    if valcount < validationSetSize and filename.endswith('.png') and r.randint(0, 6) == 6:\n",
    "        shutil.move(Depth + '/' + filename, valDepth + '/' + filename)\n",
    "        shutil.move(Normal + '/' + filename, valNormal + '/' + filename)\n",
    "        shutil.move(Pic + '/' + filename, valPic + '/' + filename)\n",
    "        shutil.move(Caustic + '/' + filename, valCaustic + '/' + filename)\n",
    "        shutil.move(Outlines + '/' + filename, valOutlines + '/' + filename)\n",
    "        shutil.move(Outlines_Processed + '/' + filename, valOutlines_Processed + '/' + filename)\n",
    "        shutil.move(Seg + '/' + filename, valSeg + '/' + filename)\n",
    "        shutil.move(Seg_Processed + '/' + filename, valSeg_Processed + '/' + filename)\n",
    "        # shutil.copy(Depth_exr + '/' + filename.replace(\".png\", \".exr\"), valDepth_exr + '/' + filename.replace(\".png\", \".exr\"))\n",
    "        # shutil.copy(Normal_exr + '/' + filename.replace(\".png\", \".exr\"), valNormal_exr + '/' + filename.replace(\".png\", \".exr\"))\n",
    "        # shutil.copy(Seg_exr + '/' + filename.replace(\".png\", \".exr\"), valSeg_exr + '/' + filename.replace(\".png\", \".exr\"))\n",
    "\n",
    "        print(\"Chosen \" + filename, end='\\r')\n",
    "        valcount += 1"
   ],
   "outputs": [
    {
     "ename": "FileNotFoundError",
     "evalue": "[WinError 2] The system cannot find the file specified",
     "output_type": "error",
     "traceback": [
      "\u001B[1;31m---------------------------------------------------------------------------\u001B[0m",
      "\u001B[1;31mFileNotFoundError\u001B[0m                         Traceback (most recent call last)",
      "File \u001B[1;32m~\\AppData\\Local\\Programs\\Python\\Python312\\Lib\\shutil.py:847\u001B[0m, in \u001B[0;36mmove\u001B[1;34m(src, dst, copy_function)\u001B[0m\n\u001B[0;32m    846\u001B[0m \u001B[38;5;28;01mtry\u001B[39;00m:\n\u001B[1;32m--> 847\u001B[0m     \u001B[43mos\u001B[49m\u001B[38;5;241;43m.\u001B[39;49m\u001B[43mrename\u001B[49m\u001B[43m(\u001B[49m\u001B[43msrc\u001B[49m\u001B[43m,\u001B[49m\u001B[43m \u001B[49m\u001B[43mreal_dst\u001B[49m\u001B[43m)\u001B[49m\n\u001B[0;32m    848\u001B[0m \u001B[38;5;28;01mexcept\u001B[39;00m \u001B[38;5;167;01mOSError\u001B[39;00m:\n",
      "\u001B[1;31mFileNotFoundError\u001B[0m: [WinError 2] The system cannot find the file specified: 'D:/SuperCaustics/Saved/Screenshots/Windows/Seg_Processed/0.png' -> 'D:/Dataset/Dataset/ExampleData_val//Seg_Processed//0.png'",
      "\nDuring handling of the above exception, another exception occurred:\n",
      "\u001B[1;31mFileNotFoundError\u001B[0m                         Traceback (most recent call last)",
      "Cell \u001B[1;32mIn[70], line 14\u001B[0m\n\u001B[0;32m     12\u001B[0m shutil\u001B[38;5;241m.\u001B[39mmove(Outlines_Processed \u001B[38;5;241m+\u001B[39m \u001B[38;5;124m'\u001B[39m\u001B[38;5;124m/\u001B[39m\u001B[38;5;124m'\u001B[39m \u001B[38;5;241m+\u001B[39m filename, valOutlines_Processed \u001B[38;5;241m+\u001B[39m \u001B[38;5;124m'\u001B[39m\u001B[38;5;124m/\u001B[39m\u001B[38;5;124m'\u001B[39m \u001B[38;5;241m+\u001B[39m filename)\n\u001B[0;32m     13\u001B[0m shutil\u001B[38;5;241m.\u001B[39mmove(Seg \u001B[38;5;241m+\u001B[39m \u001B[38;5;124m'\u001B[39m\u001B[38;5;124m/\u001B[39m\u001B[38;5;124m'\u001B[39m \u001B[38;5;241m+\u001B[39m filename, valSeg \u001B[38;5;241m+\u001B[39m \u001B[38;5;124m'\u001B[39m\u001B[38;5;124m/\u001B[39m\u001B[38;5;124m'\u001B[39m \u001B[38;5;241m+\u001B[39m filename)\n\u001B[1;32m---> 14\u001B[0m \u001B[43mshutil\u001B[49m\u001B[38;5;241;43m.\u001B[39;49m\u001B[43mmove\u001B[49m\u001B[43m(\u001B[49m\u001B[43mSeg_Processed\u001B[49m\u001B[43m \u001B[49m\u001B[38;5;241;43m+\u001B[39;49m\u001B[43m \u001B[49m\u001B[38;5;124;43m'\u001B[39;49m\u001B[38;5;124;43m/\u001B[39;49m\u001B[38;5;124;43m'\u001B[39;49m\u001B[43m \u001B[49m\u001B[38;5;241;43m+\u001B[39;49m\u001B[43m \u001B[49m\u001B[43mfilename\u001B[49m\u001B[43m,\u001B[49m\u001B[43m \u001B[49m\u001B[43mvalSeg_Processed\u001B[49m\u001B[43m \u001B[49m\u001B[38;5;241;43m+\u001B[39;49m\u001B[43m \u001B[49m\u001B[38;5;124;43m'\u001B[39;49m\u001B[38;5;124;43m/\u001B[39;49m\u001B[38;5;124;43m'\u001B[39;49m\u001B[43m \u001B[49m\u001B[38;5;241;43m+\u001B[39;49m\u001B[43m \u001B[49m\u001B[43mfilename\u001B[49m\u001B[43m)\u001B[49m\n\u001B[0;32m     15\u001B[0m \u001B[38;5;66;03m# shutil.copy(Depth_exr + '/' + filename.replace(\".png\", \".exr\"), valDepth_exr + '/' + filename.replace(\".png\", \".exr\"))\u001B[39;00m\n\u001B[0;32m     16\u001B[0m \u001B[38;5;66;03m# shutil.copy(Normal_exr + '/' + filename.replace(\".png\", \".exr\"), valNormal_exr + '/' + filename.replace(\".png\", \".exr\"))\u001B[39;00m\n\u001B[0;32m     17\u001B[0m \u001B[38;5;66;03m# shutil.copy(Seg_exr + '/' + filename.replace(\".png\", \".exr\"), valSeg_exr + '/' + filename.replace(\".png\", \".exr\"))\u001B[39;00m\n\u001B[0;32m     19\u001B[0m \u001B[38;5;28mprint\u001B[39m(\u001B[38;5;124m\"\u001B[39m\u001B[38;5;124mChosen \u001B[39m\u001B[38;5;124m\"\u001B[39m \u001B[38;5;241m+\u001B[39m filename, end\u001B[38;5;241m=\u001B[39m\u001B[38;5;124m'\u001B[39m\u001B[38;5;130;01m\\r\u001B[39;00m\u001B[38;5;124m'\u001B[39m)\n",
      "File \u001B[1;32m~\\AppData\\Local\\Programs\\Python\\Python312\\Lib\\shutil.py:867\u001B[0m, in \u001B[0;36mmove\u001B[1;34m(src, dst, copy_function)\u001B[0m\n\u001B[0;32m    865\u001B[0m         rmtree(src)\n\u001B[0;32m    866\u001B[0m     \u001B[38;5;28;01melse\u001B[39;00m:\n\u001B[1;32m--> 867\u001B[0m         \u001B[43mcopy_function\u001B[49m\u001B[43m(\u001B[49m\u001B[43msrc\u001B[49m\u001B[43m,\u001B[49m\u001B[43m \u001B[49m\u001B[43mreal_dst\u001B[49m\u001B[43m)\u001B[49m\n\u001B[0;32m    868\u001B[0m         os\u001B[38;5;241m.\u001B[39munlink(src)\n\u001B[0;32m    869\u001B[0m \u001B[38;5;28;01mreturn\u001B[39;00m real_dst\n",
      "File \u001B[1;32m~\\AppData\\Local\\Programs\\Python\\Python312\\Lib\\shutil.py:460\u001B[0m, in \u001B[0;36mcopy2\u001B[1;34m(src, dst, follow_symlinks)\u001B[0m\n\u001B[0;32m    458\u001B[0m     flags \u001B[38;5;241m|\u001B[39m\u001B[38;5;241m=\u001B[39m _winapi\u001B[38;5;241m.\u001B[39mCOPY_FILE_COPY_SYMLINK\n\u001B[0;32m    459\u001B[0m \u001B[38;5;28;01mtry\u001B[39;00m:\n\u001B[1;32m--> 460\u001B[0m     \u001B[43m_winapi\u001B[49m\u001B[38;5;241;43m.\u001B[39;49m\u001B[43mCopyFile2\u001B[49m\u001B[43m(\u001B[49m\u001B[43msrc_\u001B[49m\u001B[43m,\u001B[49m\u001B[43m \u001B[49m\u001B[43mdst_\u001B[49m\u001B[43m,\u001B[49m\u001B[43m \u001B[49m\u001B[43mflags\u001B[49m\u001B[43m)\u001B[49m\n\u001B[0;32m    461\u001B[0m     \u001B[38;5;28;01mreturn\u001B[39;00m dst\n\u001B[0;32m    462\u001B[0m \u001B[38;5;28;01mexcept\u001B[39;00m \u001B[38;5;167;01mOSError\u001B[39;00m \u001B[38;5;28;01mas\u001B[39;00m exc:\n",
      "\u001B[1;31mFileNotFoundError\u001B[0m: [WinError 2] The system cannot find the file specified"
     ]
    }
   ],
   "execution_count": 70
  }
 ],
 "metadata": {
  "kernelspec": {
   "display_name": "Python 3",
   "language": "python",
   "name": "python3"
  },
  "language_info": {
   "codemirror_mode": {
    "name": "ipython",
    "version": 3
   },
   "file_extension": ".py",
   "mimetype": "text/x-python",
   "name": "python",
   "nbconvert_exporter": "python",
   "pygments_lexer": "ipython3",
   "version": "3.6.4"
  }
 },
 "nbformat": 4,
 "nbformat_minor": 2
}
